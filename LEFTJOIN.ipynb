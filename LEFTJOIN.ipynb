{
 "cells": [
  {
   "cell_type": "code",
   "execution_count": 15,
   "metadata": {
    "collapsed": true
   },
   "outputs": [],
   "source": [
    "import psycopg2"
   ]
  },
  {
   "cell_type": "code",
   "execution_count": 16,
   "metadata": {
    "collapsed": true
   },
   "outputs": [],
   "source": [
    "conn = psycopg2.connect(\"dbname='prod' user='admin' host='13.124.7.179' password='Kookmin1' port='5439'\")\n",
    "conn.autocommit = True"
   ]
  },
  {
   "cell_type": "code",
   "execution_count": 17,
   "metadata": {},
   "outputs": [],
   "source": [
    "cur = conn.cursor()"
   ]
  },
  {
   "cell_type": "code",
   "execution_count": 18,
   "metadata": {},
   "outputs": [],
   "source": [
    "sql = \"SELECT * FROM student s JOIN zipcode z ON s.zipcode_id = z.id;\"\n",
    "cur.execute(sql)"
   ]
  },
  {
   "cell_type": "code",
   "execution_count": 19,
   "metadata": {},
   "outputs": [
    {
     "name": "stdout",
     "output_type": "stream",
     "text": [
      "('keeyong', 'han', 1000, 1000, 'california', 'san jose')\n",
      "('misook', 'kim', 1000, 1000, 'california', 'san jose')\n",
      "('claire', 'han', 1001, 1001, 'california', 'santa clara')\n",
      "('chanwoo', 'park', 1001, 1001, 'california', 'santa clara')\n",
      "('benjamin', 'han', 1001, 1001, 'california', 'santa clara')\n",
      "('chanhee', 'park', 1001, 1001, 'california', 'santa clara')\n",
      "('claire', 'hough', 1002, 1002, 'california', 'palo alto')\n",
      "('james', 'hou', 1002, 1002, 'california', 'palo alto')\n"
     ]
    }
   ],
   "source": [
    "rows = cur.fetchall()\n",
    "for row in rows:\n",
    "    print(row)"
   ]
  },
  {
   "cell_type": "code",
   "execution_count": 20,
   "metadata": {},
   "outputs": [
    {
     "name": "stdout",
     "output_type": "stream",
     "text": [
      "('keeyong', 'han', 1000, 1000, 'california', 'san jose')\n",
      "('misook', 'kim', 1000, 1000, 'california', 'san jose')\n",
      "('claire', 'han', 1001, 1001, 'california', 'santa clara')\n",
      "('chanwoo', 'park', 1001, 1001, 'california', 'santa clara')\n",
      "('benjamin', 'han', 1001, 1001, 'california', 'santa clara')\n",
      "('chanhee', 'park', 1001, 1001, 'california', 'santa clara')\n",
      "('claire', 'hough', 1002, 1002, 'california', 'palo alto')\n",
      "('james', 'hou', 1002, 1002, 'california', 'palo alto')\n",
      "('steve', 'jung', 1003, None, None, None)\n"
     ]
    }
   ],
   "source": [
    "sql = \"SELECT * FROM student s LEFT OUTER JOIN zipcode z ON s.zipcode_id = z.id;\"\n",
    "cur.execute(sql)\n",
    "rows = cur.fetchall()\n",
    "for row in rows:\n",
    "    print(row)"
   ]
  },
  {
   "cell_type": "code",
   "execution_count": 21,
   "metadata": {
    "collapsed": true
   },
   "outputs": [],
   "source": [
    "cur.close()\n",
    "conn.close()"
   ]
  },
  {
   "cell_type": "code",
   "execution_count": null,
   "metadata": {
    "collapsed": true
   },
   "outputs": [],
   "source": []
  },
  {
   "cell_type": "code",
   "execution_count": null,
   "metadata": {
    "collapsed": true
   },
   "outputs": [],
   "source": []
  },
  {
   "cell_type": "code",
   "execution_count": null,
   "metadata": {
    "collapsed": true
   },
   "outputs": [],
   "source": []
  },
  {
   "cell_type": "code",
   "execution_count": null,
   "metadata": {
    "collapsed": true
   },
   "outputs": [],
   "source": []
  }
 ],
 "metadata": {
  "kernelspec": {
   "display_name": "Python 3",
   "language": "python",
   "name": "python3"
  },
  "language_info": {
   "codemirror_mode": {
    "name": "ipython",
    "version": 3
   },
   "file_extension": ".py",
   "mimetype": "text/x-python",
   "name": "python",
   "nbconvert_exporter": "python",
   "pygments_lexer": "ipython3",
   "version": "3.6.1"
  }
 },
 "nbformat": 4,
 "nbformat_minor": 2
}
